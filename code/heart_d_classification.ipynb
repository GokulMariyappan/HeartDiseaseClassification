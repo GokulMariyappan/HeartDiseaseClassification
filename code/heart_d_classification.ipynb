{
 "cells": [
  {
   "cell_type": "markdown",
   "id": "1c98f6c2",
   "metadata": {},
   "source": [
    "## Heart Disease Classifier\n",
    "This files classifies whether or not a patient has heart disease based on his medical attributes"
   ]
  },
  {
   "cell_type": "markdown",
   "id": "3308071d",
   "metadata": {},
   "source": [
    "#### Problem Definition\n",
    "> Given medical attributes of a person, predict if he has heart disease or not"
   ]
  },
  {
   "cell_type": "markdown",
   "id": "13dac5eb",
   "metadata": {},
   "source": [
    "#### Data\n",
    "> The dataset references the UC Irivine ML repository.\n",
    "https://archive.ics.uci.edu/dataset/45/heart+disease"
   ]
  },
  {
   "cell_type": "markdown",
   "id": "0c7458bd",
   "metadata": {},
   "source": [
    "#### Evaluation\n",
    "> The objective is to attain a minimum accuracy of 95% and to validate the model via verifiable proof-of-work artifacts, including training logs, evaluation metrics, and reproducible code."
   ]
  },
  {
   "cell_type": "markdown",
   "id": "cabb7192",
   "metadata": {},
   "source": [
    "#### Features\n",
    "* age\n",
    "* sex\n",
    "* chest pain type (4 values)\n",
    "* resting blood pressure\n",
    "* serum cholestoral in mg/dl\n",
    "* fasting blood sugar > 120 mg/dl\n",
    "* resting electrocardiographic results (values 0,1,2)\n",
    "* maximum heart rate achieved\n",
    "* exercise induced angina\n",
    "* oldpeak = ST depression induced by exercise relative to rest\n",
    "* the slope of the peak exercise ST segment\n",
    "* number of major vessels (0-3) colored by flourosopy\n",
    "* thal: 0 = normal; 1 = fixed defect; 2 = reversable defect"
   ]
  },
  {
   "cell_type": "code",
   "execution_count": 29,
   "id": "e77a2353",
   "metadata": {},
   "outputs": [],
   "source": [
    "import pandas as pd\n",
    "import matplotlib.pyplot as plt\n",
    "import numpy as np\n",
    "import seaborn as sns\n",
    "\n",
    "#models\n",
    "from sklearn.linear_model import LogisticRegression\n",
    "from sklearn.ensemble import RandomForestClassifier\n",
    "from sklearn.neighbors import KNeighborsClassifier\n",
    "\n",
    "#tools\n",
    "from sklearn.model_selection import train_test_split as tts, cross_val_score\n",
    "from sklearn.model_selection import RandomizedSearchCV, GridSearchCV\n",
    "from sklearn.metrics import RocCurveDisplay\n",
    "from sklearn.metrics import f1_score, precision_score, recall_score\n",
    "from sklearn.metrics import classification_report, confusion_matrix"
   ]
  },
  {
   "cell_type": "markdown",
   "id": "735d57f8",
   "metadata": {},
   "source": [
    "### Prepaing Test and Train data"
   ]
  },
  {
   "cell_type": "code",
   "execution_count": 30,
   "id": "ef4cd3e1",
   "metadata": {},
   "outputs": [],
   "source": [
    "np.random.seed(42)\n",
    "\n",
    "df = pd.read_csv('./data/heart-disease.csv')\n",
    "\n",
    "x = df.drop('target', axis = 1)\n",
    "y = df.target\n",
    "\n",
    "X_train, X_test, y_train, y_test = tts(x, y, test_size=0.2)"
   ]
  },
  {
   "cell_type": "markdown",
   "id": "894ee7c0",
   "metadata": {},
   "source": [
    "### Checking which model might give us best result"
   ]
  },
  {
   "cell_type": "code",
   "execution_count": 31,
   "id": "99b2e458",
   "metadata": {},
   "outputs": [
    {
     "name": "stderr",
     "output_type": "stream",
     "text": [
      "C:\\Users\\admin\\Desktop\\CODE\\ML\\sample_project_id_1\\env\\Lib\\site-packages\\sklearn\\linear_model\\_logistic.py:473: ConvergenceWarning: lbfgs failed to converge after 100 iteration(s) (status=1):\n",
      "STOP: TOTAL NO. OF ITERATIONS REACHED LIMIT\n",
      "\n",
      "Increase the number of iterations to improve the convergence (max_iter=100).\n",
      "You might also want to scale the data as shown in:\n",
      "    https://scikit-learn.org/stable/modules/preprocessing.html\n",
      "Please also refer to the documentation for alternative solver options:\n",
      "    https://scikit-learn.org/stable/modules/linear_model.html#logistic-regression\n",
      "  n_iter_i = _check_optimize_result(\n",
      "C:\\Users\\admin\\Desktop\\CODE\\ML\\sample_project_id_1\\env\\Lib\\site-packages\\sklearn\\linear_model\\_logistic.py:473: ConvergenceWarning: lbfgs failed to converge after 100 iteration(s) (status=1):\n",
      "STOP: TOTAL NO. OF ITERATIONS REACHED LIMIT\n",
      "\n",
      "Increase the number of iterations to improve the convergence (max_iter=100).\n",
      "You might also want to scale the data as shown in:\n",
      "    https://scikit-learn.org/stable/modules/preprocessing.html\n",
      "Please also refer to the documentation for alternative solver options:\n",
      "    https://scikit-learn.org/stable/modules/linear_model.html#logistic-regression\n",
      "  n_iter_i = _check_optimize_result(\n",
      "C:\\Users\\admin\\Desktop\\CODE\\ML\\sample_project_id_1\\env\\Lib\\site-packages\\sklearn\\linear_model\\_logistic.py:473: ConvergenceWarning: lbfgs failed to converge after 100 iteration(s) (status=1):\n",
      "STOP: TOTAL NO. OF ITERATIONS REACHED LIMIT\n",
      "\n",
      "Increase the number of iterations to improve the convergence (max_iter=100).\n",
      "You might also want to scale the data as shown in:\n",
      "    https://scikit-learn.org/stable/modules/preprocessing.html\n",
      "Please also refer to the documentation for alternative solver options:\n",
      "    https://scikit-learn.org/stable/modules/linear_model.html#logistic-regression\n",
      "  n_iter_i = _check_optimize_result(\n",
      "C:\\Users\\admin\\Desktop\\CODE\\ML\\sample_project_id_1\\env\\Lib\\site-packages\\sklearn\\linear_model\\_logistic.py:473: ConvergenceWarning: lbfgs failed to converge after 100 iteration(s) (status=1):\n",
      "STOP: TOTAL NO. OF ITERATIONS REACHED LIMIT\n",
      "\n",
      "Increase the number of iterations to improve the convergence (max_iter=100).\n",
      "You might also want to scale the data as shown in:\n",
      "    https://scikit-learn.org/stable/modules/preprocessing.html\n",
      "Please also refer to the documentation for alternative solver options:\n",
      "    https://scikit-learn.org/stable/modules/linear_model.html#logistic-regression\n",
      "  n_iter_i = _check_optimize_result(\n",
      "C:\\Users\\admin\\Desktop\\CODE\\ML\\sample_project_id_1\\env\\Lib\\site-packages\\sklearn\\linear_model\\_logistic.py:473: ConvergenceWarning: lbfgs failed to converge after 100 iteration(s) (status=1):\n",
      "STOP: TOTAL NO. OF ITERATIONS REACHED LIMIT\n",
      "\n",
      "Increase the number of iterations to improve the convergence (max_iter=100).\n",
      "You might also want to scale the data as shown in:\n",
      "    https://scikit-learn.org/stable/modules/preprocessing.html\n",
      "Please also refer to the documentation for alternative solver options:\n",
      "    https://scikit-learn.org/stable/modules/linear_model.html#logistic-regression\n",
      "  n_iter_i = _check_optimize_result(\n"
     ]
    }
   ],
   "source": [
    "models = {\n",
    "    'Logistic Regression': LogisticRegression(),\n",
    "    'KNN':KNeighborsClassifier(),\n",
    "    'Random Forest Classifier': RandomForestClassifier()\n",
    "}\n",
    "\n",
    "def fit_and_score(models: dict, X_train, X_test, y_train, y_test):\n",
    "    np.random.seed(42)\n",
    "    model_scores = {}\n",
    "\n",
    "    for name , model in models.items():\n",
    "        score = np.mean(cross_val_score(model, X=x, y=y))\n",
    "        model_scores[name] = score\n",
    "    return model_scores\n",
    "    \n",
    "model_scores = fit_and_score(models, X_train=X_train, X_test=X_test, y_test=y_test, y_train=y_train)\n"
   ]
  },
  {
   "cell_type": "code",
   "execution_count": 32,
   "id": "42d83880",
   "metadata": {},
   "outputs": [
    {
     "data": {
      "image/png": "[encoded data removed]",
      "text/plain": [
       "<Figure size 640x480 with 1 Axes>"
      ]
     },
     "metadata": {},
     "output_type": "display_data"
    }
   ],
   "source": [
    "models_df = pd.DataFrame(data = model_scores.values(), index = model_scores.keys(), columns = ['accuracy'])\n",
    "ax = models_df.plot(kind = 'bar', color = ['green'], rot=False)\n",
    "for container in ax.containers:\n",
    "    ax.bar_label(container=container,label_type='edge')"
   ]
  },
  {
   "cell_type": "markdown",
   "id": "575ffdac",
   "metadata": {},
   "source": [
    "### Tuning hyperparameters \n",
    "For\n",
    "* Logistic Regression\n",
    "* Random Forest Classifier \n",
    "\n",
    "Using RandomizedSearchCV "
   ]
  },
  {
   "cell_type": "code",
   "execution_count": null,
   "id": "51836bc4",
   "metadata": {},
   "outputs": [
    {
     "name": "stderr",
     "output_type": "stream",
     "text": [
      "C:\\Users\\admin\\Desktop\\CODE\\ML\\sample_project_id_1\\env\\Lib\\site-packages\\sklearn\\model_selection\\_search.py:317: UserWarning: The total space of parameters 20 is smaller than n_iter=200. Running 20 iterations. For exhaustive searches, use GridSearchCV.\n",
      "  warnings.warn(\n"
     ]
    },
    {
     "name": "stdout",
     "output_type": "stream",
     "text": [
      "Fitting 5 folds for each of 20 candidates, totalling 100 fits\n",
      "Fitting 5 folds for each of 20 candidates, totalling 100 fits\n"
     ]
    },
    {
     "data": {
      "text/plain": [
       "(0.859504132231405, 0.9380165289256198)"
      ]
     },
     "execution_count": 54,
     "metadata": {},
     "output_type": "execute_result"
    }
   ],
   "source": [
    "log_params = {\n",
    "    'C':np.logspace(-4,4, 20),\n",
    "    'solver':['liblinear']\n",
    "}\n",
    "\n",
    "rand_params = {\n",
    "    \"n_estimators\": [100, 200, 300],   \n",
    "    \"max_depth\": [None, 10, 20, 30],   \n",
    "    \"min_samples_split\": [2, 5, 10],   \n",
    "    \"min_samples_leaf\": [1, 2, 4],     \n",
    "    \"max_features\": [\"sqrt\", \"log2\"],  \n",
    "    \"bootstrap\": [True, False] \n",
    "}\n",
    "\n",
    "log_cv = RandomizedSearchCV(LogisticRegression(max_iter=500), param_distributions=log_params, cv = 5, n_iter=200, verbose=True)\n",
    "rand_cv = RandomizedSearchCV(RandomForestClassifier(), param_distributions=rand_params, n_iter=20, verbose=True, cv = 5)\n",
    "\n",
    "log_cv.fit(X_train, y_train)\n",
    "rand_cv.fit(X_train, y_train)\n",
    "\n",
    "\n"
   ]
  },
  {
   "cell_type": "code",
   "execution_count": 56,
   "id": "82c7756f",
   "metadata": {},
   "outputs": [
    {
     "data": {
      "text/plain": [
       "({'solver': 'liblinear', 'C': np.float64(0.23357214690901212)},\n",
       " {'n_estimators': 200,\n",
       "  'min_samples_split': 5,\n",
       "  'min_samples_leaf': 4,\n",
       "  'max_features': 'log2',\n",
       "  'max_depth': 20,\n",
       "  'bootstrap': True})"
      ]
     },
     "execution_count": 56,
     "metadata": {},
     "output_type": "execute_result"
    }
   ],
   "source": [
    "log_cv.best_params_, rand_cv.best_params_"
   ]
  },
  {
   "cell_type": "code",
   "execution_count": 62,
   "id": "db7efdf3",
   "metadata": {},
   "outputs": [
    {
     "data": {
      "text/plain": [
       "<matplotlib.lines.Line2D at 0x1f5e486f750>"
      ]
     },
     "execution_count": 62,
     "metadata": {},
     "output_type": "execute_result"
    },
    {
     "data": {
      "image/png": "[encoded data removed]",
      "text/plain": [
       "<Figure size 640x480 with 1 Axes>"
      ]
     },
     "metadata": {},
     "output_type": "display_data"
    }
   ],
   "source": [
    "fig, ax = plt.subplots()\n",
    "\n",
    "ax.bar(x=['LogisticRegression', 'RandomForestClassifier'], height=[log_cv.score(X_test, y_test), rand_cv.score(X_test, y_test)], color = 'yellow')\n",
    "for container in ax.containers:\n",
    "    ax.bar_label(container=container, label_type='edge')\n",
    "ax.axhline(rand_cv.score(X_test, y_test), linestyle = '--', color = 'black')"
   ]
  },
  {
   "cell_type": "markdown",
   "id": "dab61843",
   "metadata": {},
   "source": [
    ">Based on results of the hyperparameters tuning we have selected Logistic Regression as the final model. "
   ]
  },
  {
   "cell_type": "code",
   "execution_count": null,
   "id": "b8375dc2",
   "metadata": {},
   "outputs": [],
   "source": []
  }
 ],
 "metadata": {
  "kernelspec": {
   "display_name": "Python 3 (ipykernel)",
   "language": "python",
   "name": "python3"
  },
  "language_info": {
   "codemirror_mode": {
    "name": "ipython",
    "version": 3
   },
   "file_extension": ".py",
   "mimetype": "text/x-python",
   "name": "python",
   "nbconvert_exporter": "python",
   "pygments_lexer": "ipython3",
   "version": "3.13.5"
  }
 },
 "nbformat": 4,
 "nbformat_minor": 5
}
