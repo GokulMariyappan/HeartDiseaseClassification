{
 "cells": [
  {
   "cell_type": "markdown",
   "id": "1c98f6c2",
   "metadata": {},
   "source": [
    "## Heart Disease Classifier\n",
    "This files classifies whether or not a patient has heart disease based on his medical attributes"
   ]
  },
  {
   "cell_type": "markdown",
   "id": "3308071d",
   "metadata": {},
   "source": [
    "#### Problem Definition\n",
    "> Given medical attributes of a person, predict if he has heart disease or not"
   ]
  },
  {
   "cell_type": "markdown",
   "id": "13dac5eb",
   "metadata": {},
   "source": [
    "#### Data\n",
    "> The dataset references the UC Irivine ML repository.\n",
    "https://archive.ics.uci.edu/dataset/45/heart+disease"
   ]
  },
  {
   "cell_type": "markdown",
   "id": "0c7458bd",
   "metadata": {},
   "source": [
    "#### Evaluation\n",
    "> The objective is to attain a minimum accuracy of 95% and to validate the model via verifiable proof-of-work artifacts, including training logs, evaluation metrics, and reproducible code."
   ]
  },
  {
   "cell_type": "markdown",
   "id": "cabb7192",
   "metadata": {},
   "source": [
    "#### Features\n",
    "* age\n",
    "* sex\n",
    "* chest pain type (4 values)\n",
    "* resting blood pressure\n",
    "* serum cholestoral in mg/dl\n",
    "* fasting blood sugar > 120 mg/dl\n",
    "* resting electrocardiographic results (values 0,1,2)\n",
    "* maximum heart rate achieved\n",
    "* exercise induced angina\n",
    "* oldpeak = ST depression induced by exercise relative to rest\n",
    "* the slope of the peak exercise ST segment\n",
    "* number of major vessels (0-3) colored by flourosopy\n",
    "* thal: 0 = normal; 1 = fixed defect; 2 = reversable defect"
   ]
  },
  {
   "cell_type": "code",
   "execution_count": 1,
   "id": "e77a2353",
   "metadata": {},
   "outputs": [],
   "source": [
    "import pandas as pd\n",
    "import matplotlib.pyplot as plt\n",
    "import numpy as np\n",
    "import seaborn as sns\n",
    "#models\n",
    "from sklearn.linear_model import LogisticRegression\n",
    "from sklearn.ensemble import RandomForestClassifier\n",
    "from sklearn.neighbors import KNeighborsClassifier\n",
    "\n",
    "#tools\n",
    "from sklearn.model_selection import train_test_split as tts, cross_val_score\n",
    "from sklearn.model_selection import RandomizedSearchCV, GridSearchCV\n",
    "from sklearn.metrics import RocCurveDisplay\n",
    "from sklearn.metrics import f1_score, precision_score, recall_score\n",
    "from sklearn.metrics import classification_report, confusion_matrix"
   ]
  },
  {
   "cell_type": "code",
   "execution_count": null,
   "id": "ef4cd3e1",
   "metadata": {},
   "outputs": [],
   "source": []
  }
 ],
 "metadata": {
  "kernelspec": {
   "display_name": "Python 3 (ipykernel)",
   "language": "python",
   "name": "python3"
  }
 },
 "nbformat": 4,
 "nbformat_minor": 5
}
